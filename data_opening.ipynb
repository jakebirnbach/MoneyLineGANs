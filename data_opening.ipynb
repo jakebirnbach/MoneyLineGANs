{
 "cells": [
  {
   "cell_type": "code",
   "execution_count": 14,
   "metadata": {},
   "outputs": [],
   "source": [
    "import numpy as np\n",
    "import pandas as pd\n",
    "import matplotlib.pyplot as plt\n",
    "import boto3\n",
    "import time\n",
    "from datetime import datetime, timedelta\n",
    "import pytz"
   ]
  },
  {
   "cell_type": "code",
   "execution_count": 6,
   "metadata": {},
   "outputs": [
    {
     "data": {
      "text/plain": [
       "['basketball_nba/starting_money/2024-11-01_starting/data/starting_moneylines.parquet',\n",
       " 'basketball_nba/starting_money/2024-11-02_starting/data/starting_moneylines.parquet',\n",
       " 'basketball_nba/starting_money/2024-11-03_starting/data/starting_moneylines.parquet',\n",
       " 'basketball_nba/starting_money/2024-11-04_starting/data/starting_moneylines.parquet']"
      ]
     },
     "execution_count": 6,
     "metadata": {},
     "output_type": "execute_result"
    }
   ],
   "source": [
    "def list_filenames(bucket_name, directory_prefix):\n",
    "    # Create a boto3 client for S3\n",
    "    s3 = boto3.client('s3')\n",
    "\n",
    "    # Initialize a paginator to handle multiple pages of S3 objects (if necessary)\n",
    "    paginator = s3.get_paginator('list_objects_v2')\n",
    "\n",
    "    # Create a list to hold the filenames\n",
    "    filenames = []\n",
    "\n",
    "    # Use the paginator to fetch all objects within the specified directory\n",
    "    for page in paginator.paginate(Bucket=bucket_name, Prefix=directory_prefix):\n",
    "        # Access the 'Contents' from each page which lists the objects\n",
    "        for obj in page.get('Contents', []):  # Check if 'Contents' key is in page\n",
    "            filenames.append(obj['Key'])\n",
    "\n",
    "    return filenames\n",
    "#Usage\n",
    "bucket_name = 'moneygans-data'  # Replace with your S3 bucket name\n",
    "directory_prefix = 'basketball_nba/starting_money/'\n",
    "#2024-11-01/live_odds/'\n",
    "# 'baseball_mlb/aggregated_data/2024-07-24_all/'  # Ensure this ends with a slash if you're specifying a folder\n",
    "\n",
    "# Get the list of filenames\n",
    "file_list = list_filenames(bucket_name, directory_prefix)\n",
    "file_list[::2]\n",
    "# df = pd.read_parquet(f's3://moneygans-data/{file_list[1]}', engine='pyarrow')"
   ]
  },
  {
   "cell_type": "code",
   "execution_count": null,
   "metadata": {},
   "outputs": [],
   "source": [
    "def combine_opening_money(df_all_path, df_new):\n",
    "    df_all = pd.read_parquet(df_all_path, engine='pyarrow')\n",
    "    df_new_combined = pd.concat([df_all, df_new], axis=0)\n",
    "    return df_new_combined\n",
    "\n",
    "df = pd.DataFrame()\n",
    "for file in file_list[2::2]:\n",
    "    df_new= pd.read_parquet(f's3://moneygans-data/{file}', engine='pyarrow')\n",
    "    df_new['date'] = df_new['commence_time_pst'].apply(lambda x: x.split('T')[0]).unique()[0]\n",
    "    df = pd.concat([df, df_new], axis=0)\n",
    "\n",
    "    "
   ]
  },
  {
   "cell_type": "code",
   "execution_count": 91,
   "metadata": {},
   "outputs": [],
   "source": [
    "OPENING_PATH = f's3://moneygans-data/basketball_nba/starting_money/starting_money_all.parquet'\n",
    "df.to_parquet(OPENING_PATH, engine='pyarrow')\n"
   ]
  },
  {
   "cell_type": "code",
   "execution_count": null,
   "metadata": {},
   "outputs": [],
   "source": [
    "def combine_opening_money(df_new):\n",
    "    OPENING_PATH = f's3://moneygans-data/basketball_nba/starting_money/starting_money_all.parquet'\n",
    "    df_all = pd.read_parquet(OPENING_PATH, engine='pyarrow')\n",
    "    df_new['date'] = df_new['commence_time_pst'].apply(lambda x: x.split('T')[0]).unique()[0]\n",
    "    df_new_combined = pd.concat([df_all, df_new], axis=0)\n",
    "    df_new_combined.to_parquet(OPENING_PATH, engine='pyarrow')"
   ]
  }
 ],
 "metadata": {
  "kernelspec": {
   "display_name": "base",
   "language": "python",
   "name": "python3"
  },
  "language_info": {
   "codemirror_mode": {
    "name": "ipython",
    "version": 3
   },
   "file_extension": ".py",
   "mimetype": "text/x-python",
   "name": "python",
   "nbconvert_exporter": "python",
   "pygments_lexer": "ipython3",
   "version": "3.9.19"
  }
 },
 "nbformat": 4,
 "nbformat_minor": 2
}
