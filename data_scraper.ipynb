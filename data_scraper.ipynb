{
 "cells": [
  {
   "cell_type": "code",
   "execution_count": 1,
   "metadata": {},
   "outputs": [
    {
     "name": "stdout",
     "output_type": "stream",
     "text": [
      "Intel MKL WARNING: Support of Intel(R) Streaming SIMD Extensions 4.2 (Intel(R) SSE4.2) enabled only processors has been deprecated. Intel oneAPI Math Kernel Library 2025.0 will require Intel(R) Advanced Vector Extensions (Intel(R) AVX) instructions.\n",
      "Intel MKL WARNING: Support of Intel(R) Streaming SIMD Extensions 4.2 (Intel(R) SSE4.2) enabled only processors has been deprecated. Intel oneAPI Math Kernel Library 2025.0 will require Intel(R) Advanced Vector Extensions (Intel(R) AVX) instructions.\n"
     ]
    }
   ],
   "source": [
    "import numpy as np\n",
    "import pandas as pd\n",
    "import matplotlib.pyplot as plt\n",
    "import requests\n",
    "import time\n",
    "from datetime import datetime, timedelta\n",
    "import pytz\n",
    "\n",
    "%matplotlib inline"
   ]
  },
  {
   "cell_type": "code",
   "execution_count": 105,
   "metadata": {},
   "outputs": [],
   "source": [
    "API_KEY = '39c094dc26939f21aab4314415efcd6f'\n",
    "MASS_BOOKS = ['draftkings', 'fanduel', 'betmgm', 'williamhill_us', 'espnbet', 'ballybet']\n",
    "ODDS_KEYS = ['basketball_nba', 'americanfootball_nfl']\n",
    "ODDS_KEYS2 = ['basketball_nba', 'basketball_ncaab','icehockey_nhl','tennis_atp_us_open', 'tennis_wta_us_open']\n",
    "REGIONS = ['us', 'us2']\n",
    "S3_PATH = 's3://moneygans-data/'\n",
    "\n",
    "\n",
    "#Converts UNIX timestamp to ISO format for readability\n",
    "def ts_to_iso(ts):  \n",
    "    tz = pytz.timezone('America/New_york')\n",
    "    return datetime.fromtimestamp(ts, tz).isoformat()\n",
    "\n",
    "def extract_time(iso_timestamp):\n",
    "    # Parse the ISO timestamp\n",
    "    dt = datetime.fromisoformat(iso_timestamp)\n",
    "    # Format only hours and minutes\n",
    "    return dt.strftime(\"%H:%M\")\n",
    "\n",
    "#Gets Date from ISO Timestamp\n",
    "def get_date(s):\n",
    "    return s.split('T')[0] \n",
    "\n",
    "\n",
    "#Can do this parallely for different sports eventually\n",
    "def get_raw_odds(sport):\n",
    "    response_dfs = []\n",
    "    for region in REGIONS:\n",
    "        odds_url = f'https://api.the-odds-api.com/v4/sports/{sport}/odds/?apiKey={API_KEY}&regions={region}&markets=h2h&oddsFormat=american&dateFormat=unix'\n",
    "        response_dfs.append(pd.json_normalize(requests.get(odds_url).json()))\n",
    "    response_df = pd.concat([response_dfs[0], response_dfs[1]])\n",
    "    \n",
    "    #Remove events that are not from today\n",
    "    response_df = response_df[response_df['commence_time'].apply(ts_to_iso).apply(get_date) == get_date(ts_to_iso(time.time()))]\n",
    "    return response_df\n",
    "\n",
    "def convert_to_hours(seconds):\n",
    "    hours = seconds / 3600\n",
    "    return hours\n",
    "\n",
    "\n"
   ]
  },
  {
   "cell_type": "code",
   "execution_count": 75,
   "metadata": {},
   "outputs": [],
   "source": [
    "odds_raw = format_df(get_raw_odds(ODDS_KEYS[0]))\n",
    "odds_raw.to_csv('nba_test.csv', index=False)"
   ]
  },
  {
   "cell_type": "code",
   "execution_count": 102,
   "metadata": {},
   "outputs": [],
   "source": [
    "def format_df(response_df):\n",
    "    \"\"\"This Function takes in the API response and returns a formatted dataframe to later be processed.\n",
    "    \n",
    "    Args:\n",
    "        response_df: (pd.DataFrame): Formatted json dataframe returned by api call\n",
    "    \n",
    "    Returns:\n",
    "        pd.DataFrame: formatted dataframe to be later used for analysis\n",
    "\n",
    "    \"\"\"\n",
    "    new_df = pd.DataFrame()\n",
    "    #Iterates through bookmakers to extract odds\n",
    "    for i, row in enumerate(response_df.iterrows()):\n",
    "        index, data = row  # Unpack the tuple\n",
    "        for book in data['bookmakers']:\n",
    "            if book['key'] in MASS_BOOKS:\n",
    "                new_row = data.drop('bookmakers')\n",
    "                new_row['book'] = book['key']\n",
    "                if book['markets'][0]['outcomes'][0]['name'] == new_row['home_team']:\n",
    "                    new_row['home_money'] = book['markets'][0]['outcomes'][0]['price']\n",
    "                    new_row['away_money'] = book['markets'][0]['outcomes'][1]['price']\n",
    "                else:\n",
    "                    new_row['home_money'] = book['markets'][0]['outcomes'][1]['price']\n",
    "                    new_row['away_money'] = book['markets'][0]['outcomes'][0]['price']\n",
    "                \n",
    "                #Sets positive and negative moneyline variables\n",
    "                if new_row['home_money'] > 0 and new_row['away_money'] < 0:\n",
    "                    new_row['pos_money'] = new_row['home_money']\n",
    "                    new_row['neg_money'] = new_row['away_money']\n",
    "                elif new_row['home_money'] < 0 and new_row['away_money'] > 0:\n",
    "                    new_row['pos_money'] = new_row['away_money']\n",
    "                    new_row['neg_money'] = new_row['home_money']\n",
    "                #If both moneylines are negative, postive moneyline will be the less negative of the two\n",
    "                elif new_row['home_money'] < 0 and new_row['away_money'] < 0:\n",
    "                    new_row['pos_money'] = max(new_row['home_money'],new_row['away_money'])\n",
    "                    new_row['neg_money'] = min(new_row['home_money'],new_row['away_money'])\n",
    "\n",
    "\n",
    "\n",
    "                #Adds column representing the time before the game starts in iso format\n",
    "                #Time to game represents the time in \n",
    "                new_row['commence_time_est'] = ts_to_iso(new_row['commence_time'])\n",
    "                new_row['ts'] = time.time()\n",
    "                new_row['game_time_ms'] =  new_row['ts'] - new_row['commence_time']\n",
    "                new_row['game_time_hrs'] = convert_to_hours(new_row['game_time_ms'])\n",
    "                new_row['last_update'] = book['markets'][0]['last_update']\n",
    "                new_row['last_update_est'] = ts_to_iso(new_row['last_update'])\n",
    "                new_df = pd.concat([new_df, new_row], axis=1)\n",
    "        # print(new_row)\n",
    "    \n",
    "    return new_df.T.reset_index(drop=True)\n",
    "\n"
   ]
  },
  {
   "cell_type": "code",
   "execution_count": 143,
   "metadata": {},
   "outputs": [],
   "source": [
    "odds_clean = pd.read_csv('nba_test.csv')\n",
    "first_start_time = odds_clean[odds_clean['commence_time'] == odds_clean['commence_time'].min()].iloc[0]['commence_time_est']\n",
    "start_time_lag = (datetime.fromisoformat(first_start_time) - timedelta(minutes=5)).strftime('%H:%M')"
   ]
  },
  {
   "cell_type": "code",
   "execution_count": 144,
   "metadata": {},
   "outputs": [
    {
     "data": {
      "text/plain": [
       "'19:05'"
      ]
     },
     "execution_count": 144,
     "metadata": {},
     "output_type": "execute_result"
    }
   ],
   "source": [
    "start_time_lag"
   ]
  },
  {
   "cell_type": "code",
   "execution_count": 94,
   "metadata": {},
   "outputs": [],
   "source": [
    "def get_current_date_time_est():\n",
    "    # Define the Eastern Standard Time zone\n",
    "    est_timezone = pytz.timezone('America/New_York')\n",
    "    \n",
    "    # Get the current time in UTC\n",
    "    utc_time = datetime.now(pytz.utc)\n",
    "    \n",
    "    # Convert the current UTC time to EST time\n",
    "    est_time = utc_time.astimezone(est_timezone)\n",
    "    \n",
    "    return est_time"
   ]
  },
  {
   "cell_type": "code",
   "execution_count": null,
   "metadata": {},
   "outputs": [
    {
     "name": "stdout",
     "output_type": "stream",
     "text": [
      "s3://moneygans-data/basketball_nba/2024-11-01/live_odds/basketball_nba_2024-11-01_1730478796.382766.parquet\n"
     ]
    }
   ],
   "source": [
    "def save_live_odds(data, date, time, sport):\n",
    "    s3_path = S3_PATH+f'{sport}/{date}/live_odds/{sport}_{date}_{time}.parquet'\n",
    "    if not data.empty:\n",
    "        data.to_parquet(s3_path, index=False)\n",
    "    \n",
    "save_live_odds(get_current_date_time_est().strftime('%Y-%m-%d'), time.time(), ODDS_KEYS[0])"
   ]
  },
  {
   "cell_type": "code",
   "execution_count": null,
   "metadata": {},
   "outputs": [
    {
     "name": "stdout",
     "output_type": "stream",
     "text": [
      "Current time is outside the specified interval, no sleep.\n"
     ]
    }
   ],
   "source": [
    "def sleep_until_out_of_interval(start_time: str, end_time: str):\n",
    "    \"\"\"\n",
    "    Sleeps until the current time is outside the given time range.\n",
    "\n",
    "    :param start_time: Start time in 'HH:MM' 24-hour format (e.g., '06:00').\n",
    "    :param end_time: End time in 'HH:MM' 24-hour format (e.g., '01:00').\n",
    "    \"\"\"\n",
    "    now = datetime.now()\n",
    "    current_time = now.time()\n",
    "\n",
    "    # Convert start_time and end_time to datetime objects (today's date)\n",
    "    start = datetime.combine(now.date(), datetime.strptime(start_time, '%H:%M').time())\n",
    "    end = datetime.combine(now.date(), datetime.strptime(end_time, '%H:%M').time())\n",
    "\n",
    "    # If the end time is past midnight (e.g., 01:00)\n",
    "    if end < start:\n",
    "        end += timedelta(days=1)  # Adjust the end time to the next day if it spans midnight\n",
    "\n",
    "    # Check if the current time is in the interval\n",
    "    if start <= now <= end:\n",
    "        # Calculate how long to sleep until the end of the interval\n",
    "        sleep_duration = (end - now).total_seconds()\n",
    "        print(f\"Current time is within the interval {start_time} - {end_time}, sleeping for {sleep_duration} seconds.\")\n",
    "        time.sleep(sleep_duration)\n",
    "    # else:\n",
    "    #     print(\"Current time is outside the specified interval, no sleep.\")\n",
    "\n",
    "sleep_until_out_of_interval('12:36', '12:38')"
   ]
  },
  {
   "cell_type": "code",
   "execution_count": null,
   "metadata": {},
   "outputs": [],
   "source": [
    "\n",
    "def get_current_date_time_est():\n",
    "    # Define the Eastern Standard Time zone\n",
    "    est_timezone = pytz.timezone('America/New_York')\n",
    "    \n",
    "    # Get the current time in UTC\n",
    "    utc_time = datetime.now(pytz.utc)\n",
    "    \n",
    "    # Convert the current UTC time to EST time\n",
    "    est_time = utc_time.astimezone(est_timezone)\n",
    "    \n",
    "    return est_time\n",
    "\n",
    "\n",
    "\n",
    "def execute_30():\n",
    "    while True:\n",
    "        est_time = get_current_date_time_est()\n",
    "\n",
    "        seconds = est_time.second\n",
    "        \n",
    "        # Calculate the delay to the next 0 or 30 seconds\n",
    "        if seconds < 30:\n",
    "            delay = 30 - seconds\n",
    "        else:\n",
    "            delay = 60 - seconds\n",
    "        \n",
    "        # Wait until the aligned time\n",
    "        time.sleep(delay)\n",
    "\n",
    "        # After the initial alignment, execute every 30 seconds\n",
    "        while True:\n",
    "            data = pd.read_csv('nba_test.csv')\n",
    "            first_start_time = data[data['commence_time'] == data['commence_time'].min()].iloc[0]['commence_time_est']\n",
    "            start_time_lag = (datetime.fromisoformat(first_start_time) - timedelta(minutes=5)).strftime('%H:%M')\n",
    "            \n",
    "            # Sleeps betwen 2AM and 5 mins before first game\n",
    "            sleep_until_out_of_interval('02:00', start_time_lag)\n",
    "            \n",
    "            est_time = get_current_date_time_est()\n",
    "            curr_date = est_time.strftime('%Y-%m-%d')\n",
    "            curr_time = est_time.strftime('%H:%M:%S')\n",
    "            start_time = time.time()\n",
    "            \n",
    "            print(\"Save executed at\", curr_date, curr_time)\n",
    "            # for sport in ODDS_KEYS:\n",
    "            save_live_odds(data,curr_date,curr_time,ODDS_KEYS[0])\n",
    "            processing_time = time.time() - start_time\n",
    "            # Sleep for the remainder of the 30 seconds\n",
    "            time.sleep(max(30 - processing_time, 0))\n",
    "\n",
    "\n",
    "if __name__ == '__main__':\n",
    "    execute_30()\n",
    "\n",
    "    "
   ]
  }
 ],
 "metadata": {
  "kernelspec": {
   "display_name": "base",
   "language": "python",
   "name": "python3"
  },
  "language_info": {
   "codemirror_mode": {
    "name": "ipython",
    "version": 3
   },
   "file_extension": ".py",
   "mimetype": "text/x-python",
   "name": "python",
   "nbconvert_exporter": "python",
   "pygments_lexer": "ipython3",
   "version": "3.9.19"
  }
 },
 "nbformat": 4,
 "nbformat_minor": 2
}
